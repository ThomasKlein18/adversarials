{
 "cells": [
  {
   "cell_type": "code",
   "execution_count": 1,
   "metadata": {
    "collapsed": false
   },
   "outputs": [
    {
     "name": "stderr",
     "output_type": "stream",
     "text": [
      "/Users/thomasklein/anaconda/lib/python3.5/site-packages/h5py/__init__.py:34: FutureWarning: Conversion of the second argument of issubdtype from `float` to `np.floating` is deprecated. In future, it will be treated as `np.float64 == np.dtype(float).type`.\n",
      "  from ._conv import register_converters as _register_converters\n"
     ]
    }
   ],
   "source": [
    "# RUN THIS FILE SECOND, AFTER THE SIMPLE NETWORK\n",
    "\n",
    "import os\n",
    "import struct\n",
    "import numpy as np\n",
    "import tensorflow as tf\n",
    "import matplotlib.pyplot as plt\n",
    "import pickle"
   ]
  },
  {
   "cell_type": "code",
   "execution_count": 2,
   "metadata": {
    "collapsed": true
   },
   "outputs": [],
   "source": [
    "# Paths\n",
    "# adjust these two \n",
    "mnist_path = \"/Users/thomasklein/Uni/5. Semester/TensorFlow/Hausaufgaben/MNIST/MNIST_data\" # path to data, might be different from source code location\n",
    "global_path = \"/Users/thomasklein/Uni/5. Semester/TensorFlow/final task/\" # main folder\n",
    "\n",
    "# are already relative to main folder\n",
    "logs_path = global_path+\"Summaries/\" # summary data for Tensorboard goes here\n",
    "save_path = global_path+\"Checkpoints/\" # Checkpoints of Saver Class go here\n",
    "datagraph_path = global_path+\"graph_data/\" # network performance values are stored here to be plotted later\n",
    "samples_path = global_path+\"Samples_Simple/\" # adversarial samples to be applied to the CNN later are stored here"
   ]
  },
  {
   "cell_type": "code",
   "execution_count": 3,
   "metadata": {
    "collapsed": true
   },
   "outputs": [],
   "source": [
    "# The MNIST-helper-class, as provided by Lukas for one of the first tensorflow-tasks. The only difference is that we\n",
    "# scaled the data to be between 0 and 1 instead of 0 and 255, because otherwise, we need to scale our epsilon.\n",
    "\n",
    "class MNIST():\n",
    "    def __init__(self, directory):\n",
    "        self._directory = directory\n",
    "        \n",
    "        self._training_data = self._load_binaries(\"train-images-idx3-ubyte\")\n",
    "        self._training_labels = self._load_binaries(\"train-labels-idx1-ubyte\")\n",
    "        self._test_data = self._load_binaries(\"t10k-images-idx3-ubyte\")\n",
    "        self._test_labels = self._load_binaries(\"t10k-labels-idx1-ubyte\")\n",
    "   \n",
    "        np.random.seed(0)\n",
    "        samples_n = self._training_labels.shape[0]\n",
    "        random_indices = np.random.choice(samples_n, samples_n // 10, replace = False)\n",
    "        np.random.seed()\n",
    "        \n",
    "        self._validation_data = self._training_data[random_indices]\n",
    "        self._validation_labels = self._training_labels[random_indices]\n",
    "        self._training_data = np.delete(self._training_data, random_indices, axis = 0)\n",
    "        self._training_labels = np.delete(self._training_labels, random_indices)\n",
    "    \n",
    "    def _load_binaries(self, file_name):\n",
    "        path = os.path.join(self._directory, file_name)\n",
    "        \n",
    "        with open(path, 'rb') as fd:\n",
    "            check, items_n = struct.unpack(\">ii\", fd.read(8))\n",
    "\n",
    "            if \"images\" in file_name and check == 2051:\n",
    "                height, width = struct.unpack(\">II\", fd.read(8))\n",
    "                images = np.fromfile(fd, dtype = 'uint8')\n",
    "                return np.reshape(images, (items_n, height, width))\n",
    "            elif \"labels\" in file_name and check == 2049:\n",
    "                return np.fromfile(fd, dtype = 'uint8')\n",
    "            else:\n",
    "                raise ValueError(\"Not a MNIST file: \" + path)\n",
    "    \n",
    "    \n",
    "    def get_training_batch(self, batch_size):\n",
    "        return self._get_batch(self._training_data, self._training_labels, batch_size)\n",
    "    \n",
    "    def get_validation_batch(self, batch_size):\n",
    "        return self._get_batch(self._validation_data, self._validation_labels, batch_size)\n",
    "    \n",
    "    def get_test_batch(self, batch_size):\n",
    "        return self._get_batch(self._test_data, self._test_labels, batch_size)\n",
    "    \n",
    "    def _get_batch(self, data, labels, batch_size):\n",
    "        samples_n = labels.shape[0]\n",
    "        if batch_size <= 0:\n",
    "            batch_size = samples_n\n",
    "        \n",
    "        random_indices = np.random.choice(samples_n, samples_n, replace = False)\n",
    "        data = data[random_indices]\n",
    "        labels = labels[random_indices]\n",
    "        for i in range(samples_n // batch_size):\n",
    "            on = i * batch_size\n",
    "            off = on + batch_size\n",
    "            yield data[on:off]/255, labels[on:off]\n",
    "    \n",
    "    \n",
    "    def get_sizes(self):\n",
    "        training_samples_n = self._training_labels.shape[0]\n",
    "        validation_samples_n = self._validation_labels.shape[0]\n",
    "        test_samples_n = self._test_labels.shape[0]\n",
    "        return training_samples_n, validation_samples_n, test_samples_n\n",
    "    \n",
    "    def get_one_image(self):\n",
    "        index = np.random.choice(len(self._training_data), replace = False)\n",
    "        img = self._training_data[index].flatten()\n",
    "        label = self._training_labels[index]\n",
    "        return img\n",
    "    \n",
    "    def show_image(self):\n",
    "        \"\"\"\n",
    "        Randomly chooses one image from the training data and displays both the image and the\n",
    "        corresponding label.\n",
    "        \"\"\"\n",
    "        index = np.random.choice(len(self._training_data), replace = False)\n",
    "        img = self._training_data[index]\n",
    "        label = self._training_labels[index]\n",
    "        \n",
    "        plt.figure()\n",
    "        plt.imshow(img)\n",
    "        plt.show()\n",
    "        \n",
    "        print(\"Label:  \", label)\n",
    "        return img\n",
    "    \n",
    "mnist = MNIST(mnist_path)"
   ]
  },
  {
   "cell_type": "code",
   "execution_count": 4,
   "metadata": {
    "collapsed": false
   },
   "outputs": [],
   "source": [
    "# The Data Flow Graph for our second experiment: Using a simple CNN to classify handwritten digits. \n",
    "# Theoretically, this network should perform much better after adversarial training.\n",
    "\n",
    "tf.reset_default_graph()\n",
    "\n",
    "# hyperparameters\n",
    "first_convolution_maps = 16    # number of feature maps in first layer\n",
    "first_convolution_size = 5     # kernel size in first layer\n",
    "second_convolution_maps = 32   # number of feature maps in second layer\n",
    "second_convolution_size = 3    # kernel size in second layer\n",
    "fully_connected = second_convolution_maps * 49 # needed for read-out layer\n",
    "\n",
    "# placeholders for input image and label\n",
    "input_img = tf.placeholder(tf.float32,[None,28,28])\n",
    "x = tf.reshape(input_img, [-1, 28, 28, 1])\n",
    "labels = tf.placeholder(tf.int64,[None])\n",
    "\n",
    "# first convolutional layer\n",
    "# we use relus, so the variance of the weight distribution should be 2/fan-in\n",
    "initializer = tf.random_normal_initializer(stddev = 2/(first_convolution_size**2))\n",
    "kernels_1 = tf.Variable(initializer([first_convolution_size,first_convolution_size,1,first_convolution_maps]))\n",
    "bias_1 = tf.Variable(tf.constant(0.0, shape=[first_convolution_maps]))\n",
    "\n",
    "convolution_1 = tf.nn.conv2d(x, kernels_1, strides = [1, 1, 1, 1], padding = \"SAME\")\n",
    "activation_1 = tf.nn.relu(convolution_1 + bias_1)\n",
    "\n",
    "# first max pooling layer\n",
    "pooling_1 = tf.nn.max_pool(activation_1, ksize = [1, 2, 2, 1], strides = [1, 2, 2, 1], padding = \"SAME\")\n",
    "\n",
    "# second convolutional layer\n",
    "initializer = tf.random_normal_initializer(stddev = 2/(first_convolution_maps * second_convolution_size**2))\n",
    "kernels_2 = tf.Variable(initializer([second_convolution_size,second_convolution_size,first_convolution_maps,second_convolution_maps]))\n",
    "bias_2 = tf.Variable(tf.constant(0.0, shape = [second_convolution_maps]))\n",
    "\n",
    "convolution_2 = tf.nn.conv2d(pooling_1, kernels_2, strides = [1, 1, 1, 1], padding = \"SAME\")\n",
    "activation_2 = tf.nn.relu(convolution_2 + bias_2)\n",
    "\n",
    "# second max pooling layer\n",
    "pooling_2 = tf.nn.max_pool(activation_2, ksize = [1, 2, 2, 1], strides = [1, 2, 2, 1], padding = \"SAME\")\n",
    "\n",
    "# first read-out layer\n",
    "initializer = tf.random_normal_initializer(stddev = fully_connected**(-1/2))\n",
    "read_out_weights_1 = tf.Variable(initializer([fully_connected,512]))\n",
    "bias_3 = tf.Variable(tf.constant(0.0, shape = [512]))\n",
    "reshaped = tf.reshape(pooling_2, [-1,fully_connected])\n",
    "activation_3 = tf.nn.tanh(tf.matmul(reshaped, read_out_weights_1 ) + bias_3)\n",
    "\n",
    "# second read-out layer\n",
    "# read-out layer uses tanh acitvation, so different weight initialization\n",
    "initializer = tf.random_normal_initializer(stddev = 512**(-1/2))\n",
    "read_out_weights_2 = tf.Variable(initializer([512, 10]))\n",
    "bias_4 = tf.Variable(tf.constant(0.0, shape= [10]))\n",
    "activation_4 = tf.nn.tanh(tf.matmul(activation_3, read_out_weights_2) + bias_4)\n",
    "\n",
    "softmax = tf.nn.softmax(activation_4)\n",
    "\n",
    "# extracting the predicted label\n",
    "predicted_label = tf.argmax(activation_4, axis=1)\n",
    "\n",
    "# calculating the accuracy \n",
    "comparison = tf.equal(labels, predicted_label)\n",
    "accuracy = tf.divide(tf.reduce_sum(tf.cast(comparison, dtype=tf.int32)), tf.size(comparison))\n",
    "tf.summary.scalar(\"accuracy\", accuracy)\n",
    "\n",
    "# calculating the cross entropy\n",
    "cross_entropies = tf.nn.sparse_softmax_cross_entropy_with_logits(logits = activation_4, labels = labels)\n",
    "mean_cross_entropy = tf.reduce_mean(cross_entropies)\n",
    "tf.summary.scalar(\"crossentropy\", mean_cross_entropy)\n",
    "\n",
    "summary_node = tf.summary.merge_all()\n",
    "# Define optimizer and minimize the mean cross entropy \n",
    "# Adadelta and Adam worked well for us\n",
    "\n",
    "#optimizer = tf.train.AdadeltaOptimizer(0.15)\n",
    "optimizer = tf.train.AdamOptimizer()\n",
    "\n",
    "# minimizing the cross entropy \n",
    "optimization_step = optimizer.minimize(mean_cross_entropy)\n",
    "\n",
    "# to generate adversarial examples using the fast gradient sign method, we need to calculate the gradient of the loss\n",
    "# with respect to the input image. tf.gradient does just that, yielding a matrix with same dimensions as training images\n",
    "gradients = tf.gradients(mean_cross_entropy,input_img)\n"
   ]
  },
  {
   "cell_type": "code",
   "execution_count": 5,
   "metadata": {
    "collapsed": false,
    "scrolled": false
   },
   "outputs": [],
   "source": [
    "# Training the network. We use batches of size 50 and 3 episodes. Cross entropy and accuracy of the resulting \n",
    "# predictions are monitored using TensorBoard.\n",
    "\n",
    "batch_size = 50\n",
    "episodes = 3\n",
    "\n",
    "with tf.Session() as session:\n",
    "    \n",
    "    session.run(tf.global_variables_initializer())\n",
    "    \n",
    "    saver = tf.train.Saver()\n",
    "    writer = tf.summary.FileWriter(logs_path+\"regular_CNN\", session.graph)\n",
    "    \n",
    "    step = 0\n",
    "    for episode in range(episodes):\n",
    "        for batch, label in mnist.get_training_batch(batch_size):\n",
    "            \n",
    "            run_metadata = tf.RunMetadata() # seems to be necessary for filewriter\n",
    "            \n",
    "            # performing one optimization step per batch, writing a summary\n",
    "            label = np.int64(label)\n",
    "            _opt_step, _summary = session.run([optimization_step, summary_node], \n",
    "                                              feed_dict={input_img:batch, labels:label})\n",
    "            \n",
    "            writer.add_run_metadata(run_metadata, 'step'+str(step))\n",
    "            writer.add_summary(_summary, step)\n",
    "            \n",
    "            step = step + 1\n",
    "            \n",
    "    # regular_model now contains a CNN that was trained on regular images\n",
    "    regular_model = saver.save(session, save_path+\"regularCNN.ckpt\", global_step = step)\n",
    "\n",
    "        "
   ]
  },
  {
   "cell_type": "code",
   "execution_count": 6,
   "metadata": {
    "collapsed": true
   },
   "outputs": [],
   "source": [
    "def generate_adversarial(session, epsilon, batch, label):\n",
    "    \"\"\"\n",
    "    Generates an adversarial example using the fast gradient sign method.\n",
    "    \n",
    "    session = the tensorflow session to be used\n",
    "    epsilon = the epsilon for the disturbance\n",
    "    batch   = the training batch containing one image (batch with one element)\n",
    "    label   = the real label of batch\n",
    "    \n",
    "    Returns an adversarial image with same dimensions as original image.\n",
    "    \"\"\"\n",
    "    _gradient = session.run([gradients], feed_dict={input_img:batch, labels:label})\n",
    "    \n",
    "    eta = []\n",
    "    for grad in _gradient:\n",
    "        eta.append(epsilon * np.sign(grad))\n",
    "\n",
    "    eta = np.reshape(np.array(eta),[28,28]) # match image dimensions\n",
    "\n",
    "    adversarial = batch[0]+eta\n",
    "    \n",
    "    return adversarial"
   ]
  },
  {
   "cell_type": "code",
   "execution_count": 7,
   "metadata": {
    "collapsed": false
   },
   "outputs": [
    {
     "name": "stdout",
     "output_type": "stream",
     "text": [
      "INFO:tensorflow:Restoring parameters from /Users/thomasklein/Uni/5. Semester/TensorFlow/final task/Checkpoints/regularCNN.ckpt-3240\n",
      "Class Probabilities for undisturbed image:\n",
      " [[0.0610183  0.06101617 0.4508519  0.06101617 0.06101617 0.06101617\n",
      "  0.06101617 0.06101617 0.06101663 0.06101617]]\n"
     ]
    },
    {
     "data": {
      "image/png": "[encoded data removed]",
      "text/plain": [
       "<matplotlib.figure.Figure at 0x122cc1a58>"
      ]
     },
     "metadata": {},
     "output_type": "display_data"
    },
    {
     "name": "stdout",
     "output_type": "stream",
     "text": [
      "Predicted Label: [2]\n",
      "Class Probabilities for adversarial example:\n",
      " [[0.31215158 0.04469719 0.33024737 0.04469719 0.04469719 0.04469719\n",
      "  0.04469719 0.04469719 0.0447208  0.04469719]]\n"
     ]
    }
   ],
   "source": [
    "# Generating and printing an adversarial example together with its original image.\n",
    "\n",
    "epsilon = 0.25\n",
    "with tf.Session() as session:\n",
    "    \n",
    "    # restoring session\n",
    "    saver = tf.train.Saver()\n",
    "    saver.restore(session,  regular_model)\n",
    "\n",
    "    for batch, label in mnist.get_training_batch(1):\n",
    "        # batch is one image, label one number\n",
    "        \n",
    "        # receiving the gradients, the drive and the target class probabilities for the image\n",
    "        # not using our method because we also need those other values, but same code otherwise\n",
    "        _gradient, _prob = session.run([gradients, softmax], \n",
    "                                             feed_dict={input_img:batch, labels:label})\n",
    "        \n",
    "        # the class probabilities for the original image\n",
    "        print(\"Class Probabilities for undisturbed image:\\n\", _prob)\n",
    "        \n",
    "        # calculating the perturbation that will be applied to the image\n",
    "        eta = []\n",
    "        for grad in _gradient:\n",
    "            eta.append(epsilon * np.sign(grad))\n",
    "            \n",
    "        eta = np.reshape(np.array(eta),[28,28]) # reshaping eta to match image dimensions\n",
    "\n",
    "        # generating the adversarial example\n",
    "        adversarial = batch[0]+eta\n",
    "        \n",
    "        f, axarr = plt.subplots(1,2)\n",
    "        axarr[0].imshow(batch[0])    # printing the original image \n",
    "        axarr[1].imshow(adversarial) # printing the adversarial\n",
    "        #axarr[2].imshow(eta)         # printing the perturbation\n",
    "        plt.show()\n",
    "        \n",
    "        # feeding the adversarial sample into the network to see what it predicts\n",
    "        _pred_label, _dis_prob = session.run([predicted_label, softmax], \n",
    "                                                       feed_dict={input_img:np.reshape(adversarial, [1,28,28])})\n",
    "        \n",
    "        print(\"Predicted Label:\",_pred_label)                       # should be different from actual label\n",
    "                 \n",
    "        \n",
    "        print(\"Class Probabilities for adversarial example:\\n\",_dis_prob)   # predicted probabilities\n",
    "        \n",
    "                \n",
    "        break"
   ]
  },
  {
   "cell_type": "markdown",
   "metadata": {},
   "source": [
    "Interestingly, it is sometimes possible to observe distinct box-like structures of large perturbation in the adversarial examples that were generated by the CNN."
   ]
  },
  {
   "cell_type": "code",
   "execution_count": 8,
   "metadata": {
    "collapsed": false,
    "scrolled": false
   },
   "outputs": [
    {
     "name": "stdout",
     "output_type": "stream",
     "text": [
      "INFO:tensorflow:Restoring parameters from /Users/thomasklein/Uni/5. Semester/TensorFlow/final task/Checkpoints/regularCNN.ckpt-3240\n",
      "Average structural similarity between original and adversarial: 0.4986332461939899\n",
      "Mean absolute difference between original and adversarial: 0.23625414540816334\n",
      "Accuracy with epsilon 0.25 was 0.193 which means that the adversarial worked 80.69999999999999 % of the time.\n"
     ]
    }
   ],
   "source": [
    "# generating batch of adversarial examples to calculate a stable value for the accuracy\n",
    "\n",
    "epsilon = 0.25\n",
    "samples = 1000\n",
    "adversarials = [] # used to store samples\n",
    "real_labels = []  # used to store labels of samples\n",
    "\n",
    "# measuring ssim between original and adversarial to obtain average difference as metric\n",
    "from skimage.measure import compare_ssim as ssim\n",
    "\n",
    "with tf.Session() as session:\n",
    "    \n",
    "    # restoring session\n",
    "    saver = tf.train.Saver()\n",
    "    saver.restore(session,  regular_model)\n",
    "    \n",
    "    ssim_difference = 0\n",
    "    mad = 0\n",
    "    \n",
    "    number = 0 # just a counter for how many samples were generated yet\n",
    "    for batch, label in mnist.get_training_batch(1):\n",
    "        # batch is one image, label one number\n",
    "        \n",
    "        adversarial = generate_adversarial(session, epsilon, batch, label)\n",
    "        \n",
    "        ssim_difference += ssim(np.reshape(batch,(28,28)), adversarial,\n",
    "                               data_range= adversarial.max()-adversarial.min())\n",
    "        \n",
    "        mad += np.mean(np.abs(np.reshape(batch,(28,28)) - adversarial))\n",
    "        \n",
    "        adversarials.append(adversarial)\n",
    "        real_labels.append(label)\n",
    "        \n",
    "        if( number == samples):\n",
    "            break\n",
    "        number = number + 1\n",
    "        \n",
    "    print(\"Average structural similarity between original and adversarial:\",ssim_difference/number)\n",
    "    # MAD should equal epsilon, within some margin of error\n",
    "    print(\"Mean absolute difference between original and adversarial:\",mad/number)\n",
    "    \n",
    "    # measuring performance on adversarial examples\n",
    "    correct = 0\n",
    "    for index, adversarial in enumerate(adversarials):\n",
    "        \n",
    "        l = np.int64(real_labels[index])\n",
    "        _predicted_label = session.run(predicted_label, \n",
    "                                            feed_dict={input_img:np.reshape(adversarial, [1,28,28]), labels:l})\n",
    "        \n",
    "        # uncomment this to see direct comparison of real and predicted label, should be wrong all the time\n",
    "        #print(\"predicted:\", _predicted_label, \"real:\", real_labels[index])\n",
    "        \n",
    "        if(_predicted_label == real_labels[index]): # prediction was correct\n",
    "            correct = correct + 1\n",
    "    \n",
    "    print(\"Accuracy with epsilon\",epsilon,\"was\",correct/samples, \"which means that the adversarial worked\",(1-(correct/samples))*100,\"% of the time.\")\n",
    "    "
   ]
  },
  {
   "cell_type": "code",
   "execution_count": 9,
   "metadata": {
    "collapsed": false,
    "scrolled": false
   },
   "outputs": [
    {
     "name": "stdout",
     "output_type": "stream",
     "text": [
      "INFO:tensorflow:Restoring parameters from /Users/thomasklein/Uni/5. Semester/TensorFlow/final task/Checkpoints/regularCNN.ckpt-3240\n"
     ]
    },
    {
     "data": {
      "image/png": "[encoded data removed]",
      "text/plain": [
       "<matplotlib.figure.Figure at 0x123dba278>"
      ]
     },
     "metadata": {},
     "output_type": "display_data"
    }
   ],
   "source": [
    "# exploring different values for epsilon, starting at zero, going up to .5\n",
    "\n",
    "samples_per_epsilon = 1000 # how many samples to generate for each epsilon\n",
    "\n",
    "with tf.Session() as session:\n",
    "\n",
    "    # restoring session\n",
    "    saver = tf.train.Saver()\n",
    "    saver.restore(session,  regular_model)\n",
    "    \n",
    "    # used for storing values for plotting \n",
    "    xvals = []\n",
    "    yvals = []\n",
    "    \n",
    "    for i in range(21): # 2.5 percent steps\n",
    "        epsilon = i * 0.025\n",
    "        \n",
    "        number = 0\n",
    "        correct = 0\n",
    "        \n",
    "        for batch, label in mnist.get_test_batch(1):\n",
    "            \n",
    "            # generating an adversarial example\n",
    "            adversarial = generate_adversarial(session, epsilon, batch, label)\n",
    "            \n",
    "            # making a prediction\n",
    "            label = np.int64(label)\n",
    "            _predicted_label = session.run(predicted_label, \n",
    "                                            feed_dict={input_img:np.reshape(adversarial, [1,28,28]), labels:label})\n",
    "        \n",
    "            if(_predicted_label == label): # prediction was correct\n",
    "                correct = correct + 1\n",
    "            \n",
    "            # we have generated enough samples\n",
    "            if(number == samples_per_epsilon):\n",
    "                \n",
    "                xvals.append(epsilon)\n",
    "                yvals.append(correct/samples_per_epsilon*100)#(((1-(correct/samples_per_epsilon))*100))\n",
    "                \n",
    "                # uncomment this to see which epsilon value caused which percentage of missclassifications\n",
    "                #print(\"Epsilon of %.2f\" % epsilon,\"fooled the network %.2f\" % ((1-(correct/samples_per_epsilon))*100),\"% of the time.\")\n",
    "                break\n",
    "                \n",
    "            number = number + 1\n",
    "    \n",
    "    # storing values for regularCNN\n",
    "    output = open(datagraph_path+\"regularCNN.pkl\", 'wb')\n",
    "    pickle.dump(yvals, output, -1)\n",
    "    output.close()\n",
    "\n",
    "    # storing x-values \n",
    "    output = open(datagraph_path+\"xval.pkl\", 'wb')\n",
    "    pickle.dump(xvals, output, -1)\n",
    "    output.close()\n",
    "    \n",
    "    # plotting results\n",
    "    plt.figure(figsize=(20,8))\n",
    "    plt.plot(xvals,yvals)\n",
    "    plt.ylabel(\"Correct Classifications in %\")\n",
    "    plt.xlabel(\"Epsilon\")\n",
    "    plt.title(\"Network Accuracy\")\n",
    "    plt.show()\n"
   ]
  },
  {
   "cell_type": "code",
   "execution_count": 10,
   "metadata": {
    "collapsed": false,
    "scrolled": false
   },
   "outputs": [
    {
     "name": "stdout",
     "output_type": "stream",
     "text": [
      "INFO:tensorflow:Restoring parameters from /Users/thomasklein/Uni/5. Semester/TensorFlow/final task/Checkpoints/regularCNN.ckpt-3240\n"
     ]
    }
   ],
   "source": [
    "# Preparation for adversarial training. Again, we generate 54.000 adversarial examples and store them in a list.\n",
    "\n",
    "epsilon = 0.25\n",
    "batchsize = 50\n",
    "adversarials = [] # used to store samples\n",
    "real_labels = []  # used to store labels of samples\n",
    "\n",
    "with tf.Session() as session:\n",
    "    \n",
    "    # restoring session\n",
    "    saver = tf.train.Saver()\n",
    "    saver.restore(session,  regular_model)\n",
    "    \n",
    "    writer = tf.summary.FileWriter(logs_path+\"Adversarial_Training_CNN\", session.graph)\n",
    "    \n",
    "    # generate 54.000 adversarial samples\n",
    "    for batch, label in mnist.get_training_batch(1):\n",
    "        # batch is one image, label one number\n",
    "        adversarial = generate_adversarial(session, epsilon, batch, label)\n",
    "        adversarials.append(adversarial)\n",
    "        real_labels.append(label)\n",
    "        \n",
    "    "
   ]
  },
  {
   "cell_type": "code",
   "execution_count": 11,
   "metadata": {
    "collapsed": false
   },
   "outputs": [],
   "source": [
    "# ADVERSARIAL TRAINING \n",
    "# the ratio of real to fake examples is again 50/50.\n",
    "\n",
    "with tf.Session() as session:\n",
    "    # reset the network\n",
    "    session.run(tf.global_variables_initializer())\n",
    "    \n",
    "    step = 0\n",
    "    episodes = 3\n",
    "    \n",
    "    for e in range(episodes):\n",
    "        begin = 0\n",
    "        end = batchsize\n",
    "        for batch, label in mnist.get_training_batch(batchsize):\n",
    "\n",
    "            batch = np.append(batch, adversarials[begin:end], axis=0)\n",
    "            label = np.append(label, real_labels[begin:end])\n",
    "\n",
    "            run_metadata = tf.RunMetadata()\n",
    "\n",
    "            _opt_step, _summary = session.run([optimization_step, summary_node], feed_dict={input_img:batch, labels:np.int64(label)})\n",
    "\n",
    "            writer.add_run_metadata(run_metadata, 'step'+str(step))\n",
    "            writer.add_summary(_summary, step)\n",
    "\n",
    "            step = step + 1\n",
    "\n",
    "            begin += batchsize\n",
    "            end += batchsize\n",
    "            \n",
    "    adversarial_model = saver.save(session, save_path+\"adversarialCNN.ckpt\", global_step = step)"
   ]
  },
  {
   "cell_type": "code",
   "execution_count": 12,
   "metadata": {
    "collapsed": false,
    "scrolled": false
   },
   "outputs": [
    {
     "name": "stdout",
     "output_type": "stream",
     "text": [
      "INFO:tensorflow:Restoring parameters from /Users/thomasklein/Uni/5. Semester/TensorFlow/final task/Checkpoints/adversarialCNN.ckpt-3240\n"
     ]
    },
    {
     "data": {
      "image/png": "[encoded data removed]",
      "text/plain": [
       "<matplotlib.figure.Figure at 0x12684e1d0>"
      ]
     },
     "metadata": {},
     "output_type": "display_data"
    }
   ],
   "source": [
    "# same test again with network that went through adversarial training\n",
    "# different values for epsilon, starting at zero, going up to .5\n",
    "\n",
    "samples_per_epsilon = 1000 # how many samples to generate for each epsilon\n",
    "\n",
    "with tf.Session() as session:\n",
    "\n",
    "    # restoring session\n",
    "    saver = tf.train.Saver()\n",
    "    saver.restore(session,  adversarial_model)\n",
    "    \n",
    "    # used for storing values for plotting \n",
    "    xvals = []\n",
    "    yvals = []\n",
    "    \n",
    "    for i in range(21): # 2.5 percent steps\n",
    "        epsilon = i * 0.025\n",
    "        \n",
    "        number = 0\n",
    "        correct = 0\n",
    "        \n",
    "        for batch, label in mnist.get_test_batch(1):\n",
    "            \n",
    "            # generating an adversarial example\n",
    "            adversarial = generate_adversarial(session, epsilon, batch, label)\n",
    "            \n",
    "            # making a prediction\n",
    "            label = np.int64(label)\n",
    "            _predicted_label = session.run(predicted_label, \n",
    "                                            feed_dict={input_img:np.reshape(adversarial, [1,28,28]), labels:label})\n",
    "        \n",
    "            if(_predicted_label == label): # prediction was correct\n",
    "                correct += 1\n",
    "            \n",
    "            # we have generated enough samples\n",
    "            if(number == samples_per_epsilon):\n",
    "                \n",
    "                xvals.append(epsilon)\n",
    "                yvals.append(correct/samples_per_epsilon*100)#(((1-(correct/samples_per_epsilon))*100))\n",
    "                \n",
    "                # uncomment this to see which epsilon value caused which percentage of missclassifications\n",
    "                #print(\"Epsilon of %.2f\" % epsilon,\"fooled the network %.2f\" % ((1-(correct/samples_per_epsilon))*100),\"% of the time.\")\n",
    "                break\n",
    "                \n",
    "            number = number + 1\n",
    "    \n",
    "    # storing values for adversarialCNN\n",
    "    output = open(datagraph_path+\"adversarialCNN.pkl\", 'wb')\n",
    "    pickle.dump(yvals, output, -1)\n",
    "    output.close()\n",
    "    \n",
    "    # plotting results\n",
    "    plt.figure(figsize=(20,8))\n",
    "    plt.plot(xvals,yvals)\n",
    "    plt.ylabel(\"Correct Classifications in %\")\n",
    "    plt.xlabel(\"Epsilon\")\n",
    "    plt.title(\"Network Accuracy\")\n",
    "    plt.show()\n",
    "\n"
   ]
  },
  {
   "cell_type": "code",
   "execution_count": 13,
   "metadata": {
    "collapsed": false,
    "scrolled": false
   },
   "outputs": [
    {
     "name": "stdout",
     "output_type": "stream",
     "text": [
      "INFO:tensorflow:Restoring parameters from /Users/thomasklein/Uni/5. Semester/TensorFlow/final task/Checkpoints/regularCNN.ckpt-3240\n",
      "Accuracy: 0.611\n"
     ]
    }
   ],
   "source": [
    "# testing performance of the regular CNN on adversarial samples that were generated by the linear model.\n",
    "# Performance definitely experiences negative impact\n",
    "\n",
    "with tf.Session() as session:\n",
    "    \n",
    "    saver = tf.train.Saver()\n",
    "    saver.restore(session,  regular_model)\n",
    "    \n",
    "    pkl_file = open(samples_path+'adversarials.pkl', 'rb')\n",
    "    adversarials = pickle.load(pkl_file)\n",
    "    pkl_file.close()\n",
    "    \n",
    "    pkl_file = open(samples_path+\"labels.pkl\", 'rb')\n",
    "    label = pickle.load(pkl_file)\n",
    "    pkl_file.close()\n",
    "    \n",
    "    correct = 0\n",
    "    for index, adv in enumerate(adversarials):\n",
    "        _predicted = session.run(predicted_label, \n",
    "                                 feed_dict={input_img:np.reshape(adv, [1,28,28]), labels:label[index]})\n",
    "        \n",
    "        if(_predicted == label[index]):\n",
    "            correct += 1\n",
    "    \n",
    "    print(\"Accuracy:\",correct/len(label))\n",
    "    "
   ]
  },
  {
   "cell_type": "code",
   "execution_count": 14,
   "metadata": {
    "collapsed": false
   },
   "outputs": [
    {
     "name": "stdout",
     "output_type": "stream",
     "text": [
      "INFO:tensorflow:Restoring parameters from /Users/thomasklein/Uni/5. Semester/TensorFlow/final task/Checkpoints/adversarialCNN.ckpt-3240\n",
      "Accuracy: 0.648\n"
     ]
    }
   ],
   "source": [
    "# This time, we test the CNN that underwent adversarial training.\n",
    "# Performance is significantly better than regular CNN, but still not as good as on real examples.\n",
    "\n",
    "with tf.Session() as session:\n",
    "    \n",
    "    saver = tf.train.Saver()\n",
    "    saver.restore(session,  adversarial_model)\n",
    "    \n",
    "    # loading adversarial examples and corresponding labels\n",
    "    pkl_file = open(samples_path+'adversarials.pkl', 'rb')\n",
    "    adversarials = pickle.load(pkl_file)\n",
    "    pkl_file.close()\n",
    "    \n",
    "    pkl_file = open(samples_path+\"labels.pkl\", 'rb')\n",
    "    label = pickle.load(pkl_file)\n",
    "    pkl_file.close()\n",
    "    \n",
    "    correct = 0\n",
    "    for index, adv in enumerate(adversarials):\n",
    "        _predicted = session.run(predicted_label, \n",
    "                                 feed_dict={input_img:np.reshape(adv, [1,28,28]), labels:label[index]})\n",
    "        \n",
    "        if(_predicted == label[index]):\n",
    "            correct += 1\n",
    "    \n",
    "    print(\"Accuracy:\",correct/len(label))\n",
    "    "
   ]
  },
  {
   "cell_type": "markdown",
   "metadata": {},
   "source": [
    "## Summary ##\n",
    "In this notebook, we recreated the first experiment with the same setup, but a different neural network. This time, we used a Convolutional Neural Network with three layers of convolution and max-pooling, followed by a small readout network. \n",
    "\n",
    "We observed that the baseline error rate of the CNN was far lower than the one of the linear regression model, which fits well with our hypothesis that a more complex model with less obvious linearity would be more resistant against adversarial perturbations. The network only failed about 80% of the time, as compared to the linear model which failed more than 95% of the time. Subsequent tests showed that a higher value for epsilon is required to achieve comparable failure rates. \n",
    "\n",
    "Again, the more surprising results presented themselves when we trained the model on adversarial examples, because model accuracy declined rapidly and even dropped below the performance level of the linear model. So far, we have no explanation for this behaviour. \n",
    "\n",
    "Another test that we conducted is whether adversarial samples that were generated by the linear model would also work for the more complex CNN. And indeed, they did. The CNN achieved an accuracy of only 52% on the adversarial examples that were generated by the linear model. This is way better than the network's perfomance on its own adversarials, but way lower than the performance of the network on undisturbed images, which comes close to 100%. So the network certainly was fooled. \n",
    "\n",
    "We then tested the network that underwent adversarial training on the adversarial examples that were generated by the linear model. This version of the CNN reached an accuracy of 71%, strongly suggesting that adversarial training does indeed increase the network's resistance against adversarials, if only simpler ones."
   ]
  },
  {
   "cell_type": "code",
   "execution_count": null,
   "metadata": {
    "collapsed": true
   },
   "outputs": [],
   "source": []
  }
 ],
 "metadata": {
  "anaconda-cloud": {},
  "kernelspec": {
   "display_name": "Python [default]",
   "language": "python",
   "name": "python3"
  },
  "language_info": {
   "codemirror_mode": {
    "name": "ipython",
    "version": 3
   },
   "file_extension": ".py",
   "mimetype": "text/x-python",
   "name": "python",
   "nbconvert_exporter": "python",
   "pygments_lexer": "ipython3",
   "version": "3.5.2"
  }
 },
 "nbformat": 4,
 "nbformat_minor": 1
}
